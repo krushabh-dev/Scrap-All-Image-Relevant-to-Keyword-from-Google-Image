{
  "nbformat": 4,
  "nbformat_minor": 0,
  "metadata": {
    "colab": {
      "provenance": [],
      "collapsed_sections": [],
      "authorship_tag": "ABX9TyM1vqY4jUXCBaZkbPGPgBda",
      "include_colab_link": true
    },
    "kernelspec": {
      "name": "python3",
      "display_name": "Python 3"
    },
    "language_info": {
      "name": "python"
    }
  },
  "cells": [
    {
      "cell_type": "markdown",
      "metadata": {
        "id": "view-in-github",
        "colab_type": "text"
      },
      "source": [
        "<a href=\"https://colab.research.google.com/github/krushabh-dev/Scrap-All-Image-Relevant-to-Keyword-from-Google-Image/blob/main/Scrap_All_Image_Relevant_to_Keyword_from_Google_Image.ipynb\" target=\"_parent\"><img src=\"https://colab.research.google.com/assets/colab-badge.svg\" alt=\"Open In Colab\"/></a>"
      ]
    },
    {
      "cell_type": "code",
      "execution_count": null,
      "metadata": {
        "id": "lmXWr93zecP1"
      },
      "outputs": [],
      "source": [
        "import requests\n",
        "from bs4 import BeautifulSoup\n",
        "import os\n",
        "\n",
        "keyword=\"monkey\"\n",
        "url=\"https://www.google.com/search?q=\" + keyword;\n",
        "\n",
        "r = requests.get(url)\n",
        "soup = BeautifulSoup(r.text, 'html.parser')\n",
        "img = soup.find_all('img')\n",
        "\n",
        "for i in img:\n",
        "  name = i['alt']\n",
        "  link = i['src']\n",
        "\n",
        "  with open(name.replace(' ', '-').replace('/', '') + '.jpg', 'wb') as f:\n",
        "    im = requests.get(link)\n",
        "    f.write(im.content)"
      ]
    }
  ]
}